{
 "cells": [
  {
   "cell_type": "code",
   "execution_count": null,
   "metadata": {},
   "outputs": [],
   "source": [
    "import time"
   ]
  },
  {
   "cell_type": "code",
   "execution_count": 1,
   "metadata": {},
   "outputs": [],
   "source": [
    "def factors(n, lb, ub): \n",
    "    # find all factors of n between lb and ub\n",
    "    notfactors=[] \n",
    "    # numbers that are not factors\n",
    "    factors=[] \n",
    "    # factors of n\n",
    "    i=lb\n",
    "    # start from the specified lower bound\n",
    "    ub1=ub\n",
    "    # end at the initially specified upper bound\n",
    "    while i<=ub+1: \n",
    "        # loop over numbers in the specified limits\n",
    "        if (len(notfactors)==0 or all([i%k!=0 for k in notfactors])): \n",
    "            # if there are no previously determined non-factors or if\n",
    "            # the current number is NOT a multiple of previously determined non-factors\n",
    "            if n%i==0: \n",
    "                # if i is a factor of n, append it to the factors list\n",
    "                factors.append(i)\n",
    "                if len(factors)==1:\n",
    "                    ub=ceil(ub1/i)\n",
    "                    # if i was the first factor to be added to the list, thus the smallest,\n",
    "                    # update the upper bound to this new value\n",
    "            else:\n",
    "                notfactors.append(i)\n",
    "                if len(factors)==0:\n",
    "                    # if the smallest factor of n has not been found yet, the upper bound can be improved \n",
    "                    ub=floor(ub1/(i))\n",
    "        else: \n",
    "            # if there exist determined non-factors AND if the current number i is a multiple of one of them\n",
    "            notfactors.append(i)\n",
    "            if len(factors)==0: \n",
    "                # if i there are no factors less than i either, then the smallest factor of n is greater than i,\n",
    "                # and the largest factror is less than or equal to floor(ub1/i)\n",
    "                ub=floor(ub1/(i))\n",
    "        i=i+1\n",
    "    factors.sort()\n",
    "    out=factors\n",
    "    return factors"
   ]
  },
  {
   "cell_type": "code",
   "execution_count": 2,
   "metadata": {},
   "outputs": [],
   "source": [
    "def all_proper_factors(n):\n",
    "    lb=2\n",
    "    ub=n\n",
    "    return factors(n, lb, ub)"
   ]
  },
  {
   "cell_type": "code",
   "execution_count": 94,
   "metadata": {},
   "outputs": [
    {
     "name": "stdout",
     "output_type": "stream",
     "text": [
      "[2, 4, 5, 8, 10, 20, 25, 40, 50, 100, 125, 200, 250, 500]\n",
      "Time elapsed: 0.120436906815 seconds\n"
     ]
    }
   ],
   "source": [
    "st=time.time()\n",
    "print all_proper_factors(1000)\n",
    "et=time.time()\n",
    "print \"Time elapsed: {} seconds\".format(et-st)"
   ]
  },
  {
   "cell_type": "code",
   "execution_count": 97,
   "metadata": {},
   "outputs": [],
   "source": [
    "def multiples(m, n):\n",
    "    multiples=[]\n",
    "    for i in range(1, floor(n/m)+1):\n",
    "        multiples.append(m*i)\n",
    "    return multiples"
   ]
  },
  {
   "cell_type": "code",
   "execution_count": 98,
   "metadata": {},
   "outputs": [
    {
     "name": "stdout",
     "output_type": "stream",
     "text": [
      "[2, 4, 6, 8, 10, 12, 14, 16, 18, 20, 22, 24, 26, 28, 30, 32, 34, 36, 38, 40, 42, 44, 46, 48, 50, 52, 54, 56, 58, 60, 62, 64, 66, 68, 70, 72, 74, 76, 78, 80, 82, 84, 86, 88, 90, 92, 94, 96]\n",
      "Time elapsed: 0.00377106666565 seconds\n"
     ]
    }
   ],
   "source": [
    "st=time.time()\n",
    "print multiples(2,97)\n",
    "et=time.time()\n",
    "print \"Time elapsed: {} seconds\".format(et-st)"
   ]
  },
  {
   "cell_type": "code",
   "execution_count": 6,
   "metadata": {},
   "outputs": [],
   "source": [
    "def naive_is_prime(n): # returns a boolean\n",
    "    is_prime=True\n",
    "    ub=n\n",
    "    i=2\n",
    "    while i<=ub:\n",
    "        if n%i==0:\n",
    "            is_prime=False\n",
    "            break\n",
    "        i=i+1\n",
    "    if is_prime==False:\n",
    "        out={\"prime\":is_prime, \"smallest_factor\": i}\n",
    "    else:\n",
    "         out={\"prime\":is_prime, \"smallest_factor\": n}\n",
    "    return out"
   ]
  },
  {
   "cell_type": "code",
   "execution_count": 9,
   "metadata": {},
   "outputs": [
    {
     "name": "stdout",
     "output_type": "stream",
     "text": [
      "{'prime': False, 'smallest_factor': 17}\n",
      "Time elapsed: 0.000515937805176 seconds\n"
     ]
    }
   ],
   "source": [
    "st=time.time()\n",
    "print naive_is_prime(25891)\n",
    "et=time.time()\n",
    "print \"Time elapsed: {} seconds\".format(et-st)"
   ]
  },
  {
   "cell_type": "code",
   "execution_count": null,
   "metadata": {},
   "outputs": [],
   "source": [
    "# naive_is_prime(1238926361552897 * 93461639715357977769163558199606896584051237541638188580280321)"
   ]
  },
  {
   "cell_type": "code",
   "execution_count": 10,
   "metadata": {},
   "outputs": [],
   "source": [
    "def prime_factorization(n):\n",
    "    pf=[]\n",
    "    dict1=naive_is_prime(n)\n",
    "    i=dict1[\"smallest_factor\"]\n",
    "    if dict1[\"prime\"]==True:\n",
    "        pf.append([n])\n",
    "    else:\n",
    "        pf.append([i])\n",
    "        if i!=n:\n",
    "            pf.append(prime_factorization(n/i))\n",
    "    pf= [item for sublist in pf for item in sublist] #(flat_list = []; for sublist in l: for item in sublist:flat_list.append(item))\n",
    "    return pf"
   ]
  },
  {
   "cell_type": "code",
   "execution_count": 99,
   "metadata": {
    "scrolled": false
   },
   "outputs": [
    {
     "name": "stdout",
     "output_type": "stream",
     "text": [
      "[47, 19843]\n",
      "Time elapsed: 0.105833053589 seconds\n"
     ]
    }
   ],
   "source": [
    "st=time.time()\n",
    "print prime_factorization(932621)\n",
    "et=time.time()\n",
    "print \"Time elapsed: {} seconds\".format(et-st)"
   ]
  },
  {
   "cell_type": "code",
   "execution_count": 21,
   "metadata": {},
   "outputs": [],
   "source": [
    "def gcd(a, b):\n",
    "    if b>a:\n",
    "        a,b=b,a\n",
    "    while b!=0:\n",
    "        a,b=b,a%b\n",
    "    return a"
   ]
  },
  {
   "cell_type": "code",
   "execution_count": 103,
   "metadata": {},
   "outputs": [
    {
     "name": "stdout",
     "output_type": "stream",
     "text": [
      "3\n",
      "Time elapsed: 0.000584125518799 seconds\n"
     ]
    }
   ],
   "source": [
    "st=time.time()\n",
    "print gcd(15223110,12032301)\n",
    "et=time.time()\n",
    "print \"Time elapsed: {} seconds\".format(et-st)"
   ]
  },
  {
   "cell_type": "code",
   "execution_count": 91,
   "metadata": {},
   "outputs": [],
   "source": [
    "def extended_euclid(a, b):\n",
    "    if b>a:\n",
    "        a,b=b,a\n",
    "    x0, x1, y0, y1 = 0, 1, 1, 0\n",
    "    while b != 0:\n",
    "        q, a, b = a // b, b, a % b\n",
    "        y0, y1 = y1, y0 - q * y1\n",
    "        x0, x1 = x1, x0 - q * x1\n",
    "    return a, x0, y0"
   ]
  },
  {
   "cell_type": "code",
   "execution_count": 104,
   "metadata": {},
   "outputs": [
    {
     "data": {
      "text/plain": [
       "(3, 430013, -339881)"
      ]
     },
     "execution_count": 104,
     "metadata": {},
     "output_type": "execute_result"
    }
   ],
   "source": [
    "extended_euclid(15223110,12032301)"
   ]
  }
 ],
 "metadata": {
  "kernelspec": {
   "display_name": "SageMath 8.6",
   "language": "",
   "name": "sagemath"
  },
  "language_info": {
   "codemirror_mode": {
    "name": "ipython",
    "version": 2
   },
   "file_extension": ".py",
   "mimetype": "text/x-python",
   "name": "python",
   "nbconvert_exporter": "python",
   "pygments_lexer": "ipython2",
   "version": "2.7.15"
  }
 },
 "nbformat": 4,
 "nbformat_minor": 2
}
